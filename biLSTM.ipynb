{
  "nbformat": 4,
  "nbformat_minor": 0,
  "metadata": {
    "colab": {
      "name": "biLSTM.ipynb",
      "provenance": [],
      "collapsed_sections": []
    },
    "kernelspec": {
      "name": "python3",
      "display_name": "Python 3"
    }
  },
  "cells": [
    {
      "cell_type": "code",
      "metadata": {
        "id": "50RlQEsAVzEU"
      },
      "source": [
        "import numpy as np\n",
        "import pandas as pd\n",
        "from keras.layers import Dense, Input, LSTM, Bidirectional, Conv1D\n",
        "from keras.layers import Dropout, Embedding\n",
        "from keras.preprocessing import text, sequence\n",
        "from keras.layers import GlobalMaxPooling1D, GlobalAveragePooling1D, concatenate, SpatialDropout1D\n",
        "from keras.models import Model\n",
        "from keras import backend as K\n",
        "from keras.models import model_from_json\n",
        "from keras.models import load_model"
      ],
      "execution_count": null,
      "outputs": []
    },
    {
      "cell_type": "code",
      "metadata": {
        "id": "18vnPwZv7nKu",
        "colab": {
          "base_uri": "https://localhost:8080/"
        },
        "outputId": "7a5a5794-2c77-4ba7-8f93-b66f6607ad64"
      },
      "source": [
        "#download fasttext \n",
        "#! wget https://dl.fbaipublicfiles.com/fasttext/vectors-crawl/cc.vi.300.vec.gz"
      ],
      "execution_count": null,
      "outputs": [
        {
          "output_type": "stream",
          "text": [
            "--2020-12-07 06:31:17--  https://dl.fbaipublicfiles.com/fasttext/vectors-crawl/cc.vi.300.vec.gz\n",
            "Resolving dl.fbaipublicfiles.com (dl.fbaipublicfiles.com)... 104.22.75.142, 172.67.9.4, 104.22.74.142, ...\n",
            "Connecting to dl.fbaipublicfiles.com (dl.fbaipublicfiles.com)|104.22.75.142|:443... connected.\n",
            "HTTP request sent, awaiting response... 200 OK\n",
            "Length: 1235219084 (1.1G) [binary/octet-stream]\n",
            "Saving to: ‘cc.vi.300.vec.gz’\n",
            "\n",
            "cc.vi.300.vec.gz    100%[===================>]   1.15G  40.8MB/s    in 25s     \n",
            "\n",
            "2020-12-07 06:31:43 (46.4 MB/s) - ‘cc.vi.300.vec.gz’ saved [1235219084/1235219084]\n",
            "\n"
          ],
          "name": "stdout"
        }
      ]
    },
    {
      "cell_type": "code",
      "metadata": {
        "id": "KLir27wv7quo"
      },
      "source": [
        "'''\n",
        "import gzip\n",
        "import shutil\n",
        "with gzip.open('cc.vi.300.vec.gz', 'rb') as f_in:\n",
        "    with open('cc.vi.300.vec', 'wb') as f_out:\n",
        "        shutil.copyfileobj(f_in, f_out)\n",
        "        '''"
      ],
      "execution_count": null,
      "outputs": []
    },
    {
      "cell_type": "code",
      "metadata": {
        "colab": {
          "base_uri": "https://localhost:8080/"
        },
        "id": "DU3PFGyr5QYR",
        "outputId": "47820ffc-f973-439d-85ad-a868d3d222c6"
      },
      "source": [
        "#download phow2v\n",
        "#! wget https://public.vinai.io/word2vec_vi_words_300dims.zip"
      ],
      "execution_count": null,
      "outputs": [
        {
          "output_type": "stream",
          "text": [
            "--2020-12-07 06:33:47--  https://public.vinai.io/word2vec_vi_words_300dims.zip\n",
            "Resolving public.vinai.io (public.vinai.io)... 99.86.35.23, 99.86.35.91, 99.86.35.72, ...\n",
            "Connecting to public.vinai.io (public.vinai.io)|99.86.35.23|:443... connected.\n",
            "HTTP request sent, awaiting response... 200 OK\n",
            "Length: 2315583928 (2.2G) [application/zip]\n",
            "Saving to: ‘word2vec_vi_words_300dims.zip’\n",
            "\n",
            "word2vec_vi_words_3 100%[===================>]   2.16G  14.7MB/s    in 2m 33s  \n",
            "\n",
            "2020-12-07 06:36:23 (14.4 MB/s) - ‘word2vec_vi_words_300dims.zip’ saved [2315583928/2315583928]\n",
            "\n"
          ],
          "name": "stdout"
        }
      ]
    },
    {
      "cell_type": "code",
      "metadata": {
        "id": "U4_v0lzx505z"
      },
      "source": [
        "'''\n",
        "from zipfile import ZipFile\n",
        "zip = ZipFile('/content/word2vec_vi_words_300dims.zip')\n",
        "zip.extractall()\n",
        "'''"
      ],
      "execution_count": null,
      "outputs": []
    },
    {
      "cell_type": "code",
      "metadata": {
        "colab": {
          "base_uri": "https://localhost:8080/"
        },
        "id": "HisAcsMR51Kf",
        "outputId": "4c74e3b2-c2e4-437c-91a1-329f3fe4cc5c"
      },
      "source": [
        "#download phow2v syllables\n",
        "#! wget https://public.vinai.io/word2vec_vi_syllables_300dims.zip"
      ],
      "execution_count": null,
      "outputs": [
        {
          "output_type": "stream",
          "text": [
            "--2020-12-07 06:39:53--  https://public.vinai.io/word2vec_vi_syllables_300dims.zip\n",
            "Resolving public.vinai.io (public.vinai.io)... 99.86.35.91, 99.86.35.98, 99.86.35.23, ...\n",
            "Connecting to public.vinai.io (public.vinai.io)|99.86.35.91|:443... connected.\n",
            "HTTP request sent, awaiting response... 200 OK\n",
            "Length: 1422871284 (1.3G) [application/zip]\n",
            "Saving to: ‘word2vec_vi_syllables_300dims.zip’\n",
            "\n",
            "word2vec_vi_syllabl 100%[===================>]   1.32G  14.6MB/s    in 96s     \n",
            "\n",
            "2020-12-07 06:41:30 (14.1 MB/s) - ‘word2vec_vi_syllables_300dims.zip’ saved [1422871284/1422871284]\n",
            "\n"
          ],
          "name": "stdout"
        }
      ]
    },
    {
      "cell_type": "code",
      "metadata": {
        "id": "ebnUmThp6K4h"
      },
      "source": [
        "'''\n",
        "zip = ZipFile('word2vec_vi_syllables_300dims.zip')\n",
        "zip.extractall()\n",
        "'''"
      ],
      "execution_count": null,
      "outputs": []
    },
    {
      "cell_type": "code",
      "metadata": {
        "id": "rXCf3ROuWQMD"
      },
      "source": [
        "EMBEDDING_FILE= '/content/drive/MyDrive/vslp/cnn_lstm_biLSTM_GRU/cc.vi.300.vec'"
      ],
      "execution_count": null,
      "outputs": []
    },
    {
      "cell_type": "code",
      "metadata": {
        "id": "Slz8LdyTWRqa"
      },
      "source": [
        "max_features=2500\n",
        "maxlen=500\n",
        "embed_size=300"
      ],
      "execution_count": null,
      "outputs": []
    },
    {
      "cell_type": "code",
      "metadata": {
        "id": "o0k3sBHU64-1"
      },
      "source": [
        "train=pd.read_csv('/content/drive/MyDrive/BERT/SA/VSLP_data/train_plus.csv')\n",
        "train['post_message']=train['post_message'].fillna('none')\n",
        "public_test = pd.read_csv('/content/drive/MyDrive/BERT/SA/VSLP_data/public_test.csv')\n",
        "private_test = pd.read_csv('/content/drive/MyDrive/BERT/SA/VSLP_data/final_private_test_dropped_no_label - final_private_test_dropped_no_label.csv')"
      ],
      "execution_count": null,
      "outputs": []
    },
    {
      "cell_type": "code",
      "metadata": {
        "id": "UGgNvYlW9mZq"
      },
      "source": [
        "X_train = train[\"post_message\"].fillna(\"none\").values\n",
        "y_train = train[['label']].values\n",
        "X_test = private_test[\"post_message\"].fillna(\"none\").values"
      ],
      "execution_count": null,
      "outputs": []
    },
    {
      "cell_type": "code",
      "metadata": {
        "id": "ByZtdVgsCv6r"
      },
      "source": [
        "from sklearn.model_selection import train_test_split\n",
        "X_train, X_test, y_train, y_test = train_test_split(X, y, test_size=0.33, random_state=42))"
      ],
      "execution_count": null,
      "outputs": []
    },
    {
      "cell_type": "code",
      "metadata": {
        "id": "HeeWMdgAxltp"
      },
      "source": [
        "tokenizer = text.Tokenizer(num_words=max_features, lower=True)\n",
        "tokenizer.fit_on_texts(list(X_train))"
      ],
      "execution_count": null,
      "outputs": []
    },
    {
      "cell_type": "code",
      "metadata": {
        "id": "5E1XDGYGxrKv"
      },
      "source": [
        "X_train = tokenizer.texts_to_sequences(X_train)\n",
        "X_val = tokenizer.texts_to_sequences(X_val)"
      ],
      "execution_count": null,
      "outputs": []
    },
    {
      "cell_type": "code",
      "metadata": {
        "id": "PQY4Yc_Mx54f",
        "colab": {
          "base_uri": "https://localhost:8080/"
        },
        "outputId": "209cb90a-e0a4-497b-c738-fcbad1257115"
      },
      "source": [
        "X_train = sequence.pad_sequences(X_train, maxlen=maxlen)\n",
        "X_val = sequence.pad_sequences(X_val, maxlen=maxlen)\n",
        "print(\"create vector\")"
      ],
      "execution_count": null,
      "outputs": [
        {
          "output_type": "stream",
          "text": [
            "create vector\n"
          ],
          "name": "stdout"
        }
      ]
    },
    {
      "cell_type": "code",
      "metadata": {
        "id": "KkWYxVLGyF3q"
      },
      "source": [
        "embeddings_index = {}\n",
        "with open(EMBEDDING_FILE, encoding='utf8') as f:\n",
        "    for line in f:\n",
        "        values = line.rstrip().rsplit(' ')\n",
        "        word = values[0]\n",
        "        coefs = np.asarray(values[1:], dtype='float32')\n",
        "        embeddings_index[word] = coefs\n",
        "\n",
        "word_index = tokenizer.word_index\n",
        "num_words = min(max_features, len(word_index) + 1)\n",
        "embedding_matrix = np.zeros((num_words, embed_size))"
      ],
      "execution_count": null,
      "outputs": []
    },
    {
      "cell_type": "code",
      "metadata": {
        "id": "IO15YaUfyKeL"
      },
      "source": [
        "for word, i in word_index.items():\n",
        "    if i >= max_features:\n",
        "        continue\n",
        "  \n",
        "    embedding_vector = embeddings_index.get(word)\n",
        "    if embedding_vector is not None:\n",
        "        embedding_matrix[i] = embedding_vector"
      ],
      "execution_count": null,
      "outputs": []
    },
    {
      "cell_type": "code",
      "metadata": {
        "id": "4pwoQiVfwgLZ"
      },
      "source": [
        "def recall_m(y_true, y_pred):\n",
        "    true_positives = K.sum(K.round(K.clip(y_true * y_pred, 0, 1)))\n",
        "    possible_positives = K.sum(K.round(K.clip(y_true, 0, 1)))\n",
        "    recall = true_positives / (possible_positives + K.epsilon())\n",
        "    return recall\n",
        "\n",
        "def precision_m(y_true, y_pred):\n",
        "    true_positives = K.sum(K.round(K.clip(y_true * y_pred, 0, 1)))\n",
        "    predicted_positives = K.sum(K.round(K.clip(y_pred, 0, 1)))\n",
        "    precision = true_positives / (predicted_positives + K.epsilon())\n",
        "    return precision\n",
        "\n",
        "def f1_m(y_true, y_pred):\n",
        "    precision = precision_m(y_true, y_pred)\n",
        "    recall = recall_m(y_true, y_pred)\n",
        "    return 2*((precision*recall)/(precision+recall+K.epsilon()))\n"
      ],
      "execution_count": null,
      "outputs": []
    },
    {
      "cell_type": "code",
      "metadata": {
        "id": "sX1zXTPczA2D"
      },
      "source": [
        "inp = Input(shape=(maxlen,))\n",
        "meta_input = Input(shape=(3505,))\n",
        "\n",
        "x = Embedding(max_features, embed_size, weights=[embedding_matrix], trainable=True)(inp)\n",
        "x = SpatialDropout1D(0.35)(x)\n",
        "\n",
        "x = Bidirectional(LSTM(128, return_sequences=True, dropout=0.15, recurrent_dropout=0.15))(x)\n",
        "concat = concatenate([x, meta_input]) \n",
        "x = Conv1D(64, kernel_size=3, padding='valid', kernel_initializer='glorot_uniform')(x)\n",
        "\n",
        "avg_pool = GlobalAveragePooling1D()(x)\n",
        "max_pool = GlobalMaxPooling1D()(x)\n",
        "x = concatenate([avg_pool, max_pool])\n",
        "\n",
        "out = Dense(1, activation='sigmoid')(x)\n",
        "\n",
        "model = Model(inp, out)\n",
        "model.compile(optimizer='adam', loss='binary_crossentropy', metrics=['acc',f1_m,precision_m, recall_m])"
      ],
      "execution_count": null,
      "outputs": []
    },
    {
      "cell_type": "code",
      "metadata": {
        "id": "hSU9r_CKHlbP"
      },
      "source": [
        "model.summary()"
      ],
      "execution_count": null,
      "outputs": []
    },
    {
      "cell_type": "code",
      "metadata": {
        "id": "DENuEGRY9OYm"
      },
      "source": [
        "nlp_input = Input(shape=(maxlen,)) \n",
        "meta_input = Input(shape=(3505,))\n",
        "meta_input2 = Input(shape=(1,))\n",
        "emb = Embedding(max_features, embed_size, weights=[embedding_matrix], trainable=True)(nlp_input) \n",
        "nlp_out = Bidirectional(LSTM(128))(emb) \n",
        "concat = concatenate([nlp_out, meta_input, meta_input2]) \n",
        "classifier = Dense(32, activation='relu')(concat) \n",
        "output = Dense(1, activation='sigmoid')(classifier) \n",
        "model = Model(inputs=[nlp_input , meta_input, meta_input2], outputs=[output])\n",
        "model.compile(optimizer='adam', loss='binary_crossentropy', metrics=['acc',f1_m,precision_m, recall_m])"
      ],
      "execution_count": null,
      "outputs": []
    },
    {
      "cell_type": "code",
      "metadata": {
        "id": "z9tZlDrozIRH",
        "colab": {
          "base_uri": "https://localhost:8080/"
        },
        "outputId": "a5332e19-ac30-4923-a703-42ddfededdde"
      },
      "source": [
        "batch_size = 32\n",
        "epochs =5\n",
        "history = model.fit([X_train,user_train,X_trainn['len']], y_train, validation_data=([X_val,user_val, X_vall['len']], y_val), batch_size=batch_size, epochs=epochs, verbose=1)\n",
        "# evaluate the model\n",
        "loss, accuracy, f1_score, precision, recall = model.evaluate([X_val,user_val,X_vall['len']], y_val, verbose=0)\n"
      ],
      "execution_count": null,
      "outputs": [
        {
          "output_type": "stream",
          "text": [
            "Epoch 1/5\n",
            "122/122 [==============================] - 291s 2s/step - loss: 0.4595 - acc: 0.8183 - f1_m: 0.0463 - precision_m: 0.0993 - recall_m: 0.0474 - val_loss: 0.3998 - val_acc: 0.8469 - val_f1_m: 0.1354 - val_precision_m: 0.3495 - val_recall_m: 0.0873\n",
            "Epoch 2/5\n",
            "122/122 [==============================] - 278s 2s/step - loss: 0.3215 - acc: 0.8691 - f1_m: 0.4870 - precision_m: 0.6631 - recall_m: 0.4359 - val_loss: 0.3714 - val_acc: 0.8479 - val_f1_m: 0.2120 - val_precision_m: 0.3342 - val_recall_m: 0.1643\n",
            "Epoch 3/5\n",
            "122/122 [==============================] - 278s 2s/step - loss: 0.2220 - acc: 0.9194 - f1_m: 0.6994 - precision_m: 0.8109 - recall_m: 0.6526 - val_loss: 0.3979 - val_acc: 0.8243 - val_f1_m: 0.2365 - val_precision_m: 0.3017 - val_recall_m: 0.2086\n",
            "Epoch 4/5\n",
            "122/122 [==============================] - 284s 2s/step - loss: 0.1898 - acc: 0.9363 - f1_m: 0.7667 - precision_m: 0.8463 - recall_m: 0.7457 - val_loss: 0.4583 - val_acc: 0.8417 - val_f1_m: 0.2642 - val_precision_m: 0.3437 - val_recall_m: 0.2226\n",
            "Epoch 5/5\n",
            "122/122 [==============================] - 288s 2s/step - loss: 0.1142 - acc: 0.9636 - f1_m: 0.8628 - precision_m: 0.9201 - recall_m: 0.8390 - val_loss: 0.5661 - val_acc: 0.8037 - val_f1_m: 0.2391 - val_precision_m: 0.2925 - val_recall_m: 0.2193\n"
          ],
          "name": "stdout"
        }
      ]
    },
    {
      "cell_type": "code",
      "metadata": {
        "id": "Mr7AE8ORHa_N"
      },
      "source": [
        ""
      ],
      "execution_count": null,
      "outputs": []
    }
  ]
}